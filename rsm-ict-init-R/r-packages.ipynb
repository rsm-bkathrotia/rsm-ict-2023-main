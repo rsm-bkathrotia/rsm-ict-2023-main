{
 "cells": [
  {
   "cell_type": "code",
   "execution_count": null,
   "id": "c38473e0-6985-4790-9766-1cd4f6b52635",
   "metadata": {
    "vscode": {
     "languageId": "r"
    }
   },
   "outputs": [],
   "source": [
    "# for instructor - ensures a clean starting point\n",
    "# unlink(Sys.getenv(\"R_LIBS_USER\"), recursive = TRUE, force = TRUE)\n",
    "# dir.exists(Sys.getenv(\"R_LIBS_USER\"))\n",
    ".libPaths()"
   ]
  },
  {
   "cell_type": "code",
   "execution_count": null,
   "id": "b923ca1d-a2fd-4e34-a53d-0d52b0b27a11",
   "metadata": {
    "vscode": {
     "languageId": "r"
    }
   },
   "outputs": [],
   "source": [
    "## loading and using the radiant library\n",
    "suppressMessages(library(radiant))"
   ]
  },
  {
   "cell_type": "code",
   "execution_count": null,
   "id": "0023b902",
   "metadata": {
    "vscode": {
     "languageId": "r"
    }
   },
   "outputs": [],
   "source": [
    "## run cluster analysis\n",
    "describe(shopping)\n",
    "result <- kclus(shopping, vars = \"v1:v6\", nr_clus = 3)\n",
    "summary(result)\n",
    "plot(result, plots = c(\"density\", \"bar\"))"
   ]
  },
  {
   "cell_type": "code",
   "execution_count": null,
   "id": "93832adc",
   "metadata": {
    "vscode": {
     "languageId": "r"
    }
   },
   "outputs": [],
   "source": [
    "## store cluster membership\n",
    "shopping <- store(shopping, result, name = \"clus\")\n",
    "head(shopping)"
   ]
  },
  {
   "cell_type": "markdown",
   "id": "3c88b9d2",
   "metadata": {},
   "source": [
    "Do not install R or Python packages that are already part of the `rsm-jupyter` image/container. First check if you already have what you need and install new packages locally only if needed"
   ]
  },
  {
   "cell_type": "code",
   "execution_count": null,
   "id": "7d04b07f",
   "metadata": {
    "vscode": {
     "languageId": "r"
    }
   },
   "outputs": [],
   "source": [
    "# to check if an R-package is already installed use the below\n",
    "ret <- require(\"some-package\", quietly = TRUE)\n",
    "ret"
   ]
  },
  {
   "cell_type": "code",
   "execution_count": null,
   "id": "e347b27a",
   "metadata": {
    "vscode": {
     "languageId": "r"
    }
   },
   "outputs": [],
   "source": [
    "## do you have any default package repos set? if not, run 'setup' from a terminal in JupyterLab and restart R (or R-kernel)\n",
    "getOption(\"repos\")"
   ]
  },
  {
   "cell_type": "code",
   "execution_count": null,
   "id": "cbd43d82",
   "metadata": {
    "vscode": {
     "languageId": "r"
    }
   },
   "outputs": [],
   "source": [
    "## if you are using Rstudio use the command below to check what options are set and R-commands run when R starts up\n",
    "usethis::edit_r_profile()"
   ]
  },
  {
   "cell_type": "code",
   "execution_count": null,
   "id": "3ef4b5a9",
   "metadata": {
    "vscode": {
     "languageId": "r"
    }
   },
   "outputs": [],
   "source": [
    "# if you are using Rstudio or an R-notebook you can see the content of the .Rprofile file using the command below\n",
    "rprof <- readLines(\"~/.Rprofile\", warn = FALSE)\n",
    "print(rprof)"
   ]
  },
  {
   "cell_type": "code",
   "execution_count": null,
   "id": "92949115",
   "metadata": {
    "vscode": {
     "languageId": "r"
    }
   },
   "outputs": [],
   "source": [
    "## where are R-packages installed?\n",
    ".libPaths()  # libs without your username or without a ~ are for system installs"
   ]
  },
  {
   "cell_type": "code",
   "execution_count": null,
   "id": "b2046c7f",
   "metadata": {
    "vscode": {
     "languageId": "r"
    }
   },
   "outputs": [],
   "source": [
    "# will throw an error in an R-notebook\n",
    "# no option for interactive input\n",
    "install.packages(\"fortunes\", lib=.libPaths()[2])\n",
    "\n",
    "if (require(\"fortunes\", quietly = TRUE)) {\n",
    "    ## this section is only relevant is you could install the package\n",
    "    fortunes::fortune()\n",
    "\n",
    "    ## check to see where this package was installed\n",
    "    installed.packages()[\"fortunes\", c(\"LibPath\", \"Version\")]\n",
    "\n",
    "    ## remove the package\n",
    "    remove.packages(\"fortunes\")\n",
    "}"
   ]
  },
  {
   "cell_type": "code",
   "execution_count": null,
   "id": "aa9ae6b2",
   "metadata": {
    "vscode": {
     "languageId": "r"
    }
   },
   "outputs": [],
   "source": [
    "## is there already a personal library for R-packages?\n",
    ".libPaths()"
   ]
  },
  {
   "cell_type": "code",
   "execution_count": null,
   "id": "66f962fe",
   "metadata": {
    "vscode": {
     "languageId": "r"
    }
   },
   "outputs": [],
   "source": [
    "## this is the location preset for the personal library\n",
    "Sys.getenv(\"R_LIBS_USER\")"
   ]
  },
  {
   "cell_type": "code",
   "execution_count": null,
   "id": "ae26a82a",
   "metadata": {
    "vscode": {
     "languageId": "r"
    }
   },
   "outputs": [],
   "source": [
    "## R should create these automatically but lets do it manually\n",
    "fs::dir_create(Sys.getenv(\"R_LIBS_USER\"), recurse = TRUE)"
   ]
  },
  {
   "cell_type": "markdown",
   "id": "3f5ddb54",
   "metadata": {},
   "source": [
    "* If you are using Rstudio go to Session > Restart R\n",
    "* If you are using an R-notebook go to Kernel > Restart Kernel"
   ]
  },
  {
   "cell_type": "code",
   "execution_count": null,
   "id": "0026e5d9",
   "metadata": {
    "vscode": {
     "languageId": "r"
    }
   },
   "outputs": [],
   "source": [
    "install.packages(\"fortunes\", lib = Sys.getenv(\"R_LIBS_USER\"))\n",
    "installed.packages()[\"fortunes\", c(\"LibPath\", \"Version\")]"
   ]
  },
  {
   "cell_type": "code",
   "execution_count": null,
   "id": "fb3b2ba0",
   "metadata": {
    "vscode": {
     "languageId": "r"
    }
   },
   "outputs": [],
   "source": [
    "## packages will now go to personal library by default because it is first in .libPaths()\n",
    ".libPaths()"
   ]
  },
  {
   "cell_type": "code",
   "execution_count": null,
   "id": "8fda0ac3",
   "metadata": {
    "vscode": {
     "languageId": "r"
    }
   },
   "outputs": [],
   "source": [
    "remove.packages(\"fortunes\", lib = .libPaths())\n",
    "install.packages(\"fortunes\")\n",
    "installed.packages()[\"fortunes\", \"LibPath\"]"
   ]
  },
  {
   "cell_type": "code",
   "execution_count": null,
   "id": "ad5b3dd8",
   "metadata": {
    "vscode": {
     "languageId": "r"
    }
   },
   "outputs": [],
   "source": [
    "# can you build packages that need to be built from source?\n",
    "## install the development version of purrr\n",
    "## if you have a GitHub account you can get a PAT from\n",
    "## https://github.com/settings/tokens\n",
    "## you should add the token to your ~/.Renviron file as follows:\n",
    "## GITHUB_PAT = \"your-token\"\n",
    "remotes::install_github(\"tidyverse/purrr\", upgrade = \"never\")\n",
    "packageVersion(\"purrr\")"
   ]
  },
  {
   "cell_type": "code",
   "execution_count": null,
   "id": "5266e83d",
   "metadata": {
    "vscode": {
     "languageId": "r"
    }
   },
   "outputs": [],
   "source": [
    "remove.packages(\"purrr\", lib = Sys.getenv(\"R_LIBS_USER\"))"
   ]
  },
  {
   "cell_type": "code",
   "execution_count": null,
   "id": "873d8988",
   "metadata": {
    "vscode": {
     "languageId": "r"
    }
   },
   "outputs": [],
   "source": [
    "## what packages are installed on your system?\n",
    "installed.packages()[, \"Package\"]"
   ]
  },
  {
   "cell_type": "code",
   "execution_count": null,
   "id": "05d29027",
   "metadata": {
    "vscode": {
     "languageId": "r"
    }
   },
   "outputs": [],
   "source": [
    "installed.packages(lib.loc = Sys.getenv(\"R_LIBS_USER\"))[, \"Package\"]"
   ]
  },
  {
   "cell_type": "code",
   "execution_count": null,
   "id": "ff6cd901",
   "metadata": {
    "vscode": {
     "languageId": "r"
    }
   },
   "outputs": [],
   "source": [
    "## cleanup by executing the command below from a terminal\n",
    "# clean"
   ]
  },
  {
   "cell_type": "code",
   "execution_count": null,
   "id": "e570c104-3bb9-4591-a439-8f9868677132",
   "metadata": {
    "vscode": {
     "languageId": "r"
    }
   },
   "outputs": [],
   "source": [
    "## after 'clean' try the command below again\n",
    "installed.packages(lib.loc = Sys.getenv(\"R_LIBS_USER\"))[, \"Package\"]"
   ]
  }
 ],
 "metadata": {
  "kernelspec": {
   "display_name": "R",
   "language": "R",
   "name": "ir"
  },
  "language_info": {
   "codemirror_mode": "r",
   "file_extension": ".r",
   "mimetype": "text/x-r-source",
   "name": "R",
   "pygments_lexer": "r",
   "version": "4.2.1"
  },
  "vscode": {
   "interpreter": {
    "hash": "d4d1e4263499bec80672ea0156c357c1ee493ec2b1c70f0acce89fc37c4a6abe"
   }
  }
 },
 "nbformat": 4,
 "nbformat_minor": 5
}
