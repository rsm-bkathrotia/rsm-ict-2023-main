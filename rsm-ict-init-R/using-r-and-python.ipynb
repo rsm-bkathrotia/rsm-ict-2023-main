{
 "cells": [
  {
   "cell_type": "code",
   "execution_count": 1,
   "id": "1b6fc224-c2ef-4a56-a37a-95b04e07aebe",
   "metadata": {},
   "outputs": [],
   "source": [
    "import pandas as pd\n",
    "import rpy2\n",
    "from rpy2.robjects import r, pandas2ri\n",
    "\n",
    "# Note: Combining R and Python in one Python notebook\n",
    "# does not currently work on the server but should\n",
    "# work on both macOS and Windows host machines"
   ]
  },
  {
   "cell_type": "code",
   "execution_count": 2,
   "id": "2b91aea1-9401-4e33-883e-6f6fc1756dd3",
   "metadata": {},
   "outputs": [
    {
     "data": {
      "text/plain": [
       "'3.5.11'"
      ]
     },
     "execution_count": 2,
     "metadata": {},
     "output_type": "execute_result"
    }
   ],
   "source": [
    "rpy2.__version__"
   ]
  },
  {
   "cell_type": "code",
   "execution_count": 3,
   "id": "angry-testimony",
   "metadata": {},
   "outputs": [],
   "source": [
    "%reload_ext rpy2.ipython"
   ]
  },
  {
   "cell_type": "code",
   "execution_count": 4,
   "id": "waiting-teach",
   "metadata": {},
   "outputs": [
    {
     "name": "stdout",
     "output_type": "stream",
     "text": [
      "Sample size calculation for comparison of proportions \n",
      "Sample size 1    : 39,208\n",
      "Sample size 2    : 39,208\n",
      "Total sample size: 78,416\n",
      "Proportion 1     : 0.51 \n",
      "Proportion 2     : 0.52 \n",
      "Effect size      : 0.02000934 \n",
      "Confidence level : 0.95 \n",
      "Power            : 0.8 \n",
      "Alternative      : two.sided \n",
      "\n"
     ]
    }
   ],
   "source": [
    "%%R\n",
    "result <- radiant.design::sample_size_comp(\n",
    "  type = \"proportion\",\n",
    "  p1 = 0.51,\n",
    "  p2 = 0.52,\n",
    "  conf_lev = 0.95,\n",
    "  power = 0.8\n",
    ")\n",
    "summary(result)"
   ]
  },
  {
   "cell_type": "code",
   "execution_count": 5,
   "id": "opposite-chocolate",
   "metadata": {},
   "outputs": [],
   "source": [
    "dframe = pd.DataFrame({\n",
    "    \"col1\": [\"x\", \"y\", \"z\"],\n",
    "    \"col2\": [3, 4, 5]\n",
    "})"
   ]
  },
  {
   "cell_type": "code",
   "execution_count": 6,
   "id": "hearing-wichita",
   "metadata": {},
   "outputs": [
    {
     "data": {
      "image/png": "[encoded data removed]",
      "text/plain": [
       "<IPython.core.display.Image object>"
      ]
     },
     "metadata": {},
     "output_type": "display_data"
    }
   ],
   "source": [
    "%%R -i dframe\n",
    "library(ggplot2)\n",
    "p <- ggplot(dframe, aes(x=col1, y=col2)) + geom_bar(stat=\"identity\")\n",
    "print(p)\n"
   ]
  },
  {
   "cell_type": "code",
   "execution_count": 7,
   "id": "technical-sierra",
   "metadata": {},
   "outputs": [
    {
     "name": "stdout",
     "output_type": "stream",
     "text": [
      "  a b\n",
      "1 1 4\n",
      "2 2 5\n",
      "3 3 6\n"
     ]
    }
   ],
   "source": [
    "%%R\n",
    "\n",
    "rdf = data.frame(a = 1:3, b = 4:6)\n",
    "rdf"
   ]
  },
  {
   "cell_type": "code",
   "execution_count": 8,
   "id": "35e1deb9-0848-45cb-a78d-fc1b9b642d36",
   "metadata": {},
   "outputs": [],
   "source": [
    "# converts R objects to python types\n",
    "pandas2ri.activate()"
   ]
  },
  {
   "cell_type": "code",
   "execution_count": 9,
   "id": "193a7f72-0ef5-413e-a66a-f73f359a6237",
   "metadata": {},
   "outputs": [],
   "source": [
    "pydf = r['rdf']"
   ]
  },
  {
   "cell_type": "code",
   "execution_count": 10,
   "id": "fc8a3097-9a4c-481e-aec2-8f4b690a7841",
   "metadata": {},
   "outputs": [
    {
     "data": {
      "text/html": [
       "\n",
       "        <span>R/rpy2 DataFrame (3 x 2)</span>\n",
       "        <table>\n",
       "          <thead>\n",
       "            <tr>\n",
       "              \n",
       "              <th>a</th>\n",
       "              \n",
       "              <th>b</th>\n",
       "              \n",
       "            </tr>\n",
       "          </thead>\n",
       "          <tbody>\n",
       "          \n",
       "          <tr>\n",
       "            \n",
       "            <td>\n",
       "              ...\n",
       "            </td>\n",
       "            \n",
       "            <td>\n",
       "              ...\n",
       "            </td>\n",
       "            \n",
       "          </tr>\n",
       "          \n",
       "          </tbody>\n",
       "        </table>\n",
       "    "
      ],
      "text/plain": [
       "<rpy2.robjects.vectors.DataFrame object at 0xffff51f56f50> [19]\n",
       "R classes: ('data.frame',)\n",
       "[IntSexpVector, IntSexpVector]\n",
       "  a: <class 'rpy2.rinterface.IntSexpVector'>\n",
       "  <rpy2.rinterface.IntSexpVector object at 0xffff51fde890> [13]\n",
       "  b: <class 'rpy2.rinterface.IntSexpVector'>\n",
       "  <rpy2.rinterface.IntSexpVector object at 0xffff51f8f0d0> [13]"
      ]
     },
     "execution_count": 10,
     "metadata": {},
     "output_type": "execute_result"
    }
   ],
   "source": [
    "pydf"
   ]
  },
  {
   "cell_type": "code",
   "execution_count": 11,
   "id": "7c20da64-e897-4168-8d48-e25da12b4d01",
   "metadata": {},
   "outputs": [
    {
     "data": {
      "text/plain": [
       "rpy2.robjects.vectors.DataFrame"
      ]
     },
     "execution_count": 11,
     "metadata": {},
     "output_type": "execute_result"
    }
   ],
   "source": [
    "type(pydf)"
   ]
  },
  {
   "cell_type": "code",
   "execution_count": 12,
   "id": "cb803d02-2fc3-4d76-a899-cd165050c9de",
   "metadata": {},
   "outputs": [
    {
     "data": {
      "text/plain": [
       "array(['dframe', 'p', 'rdf', 'result'], dtype='<U6')"
      ]
     },
     "execution_count": 12,
     "metadata": {},
     "output_type": "execute_result"
    }
   ],
   "source": [
    "r.ls()"
   ]
  },
  {
   "cell_type": "markdown",
   "id": "3c36c8fa-8a2c-451d-a1a3-d614589582fd",
   "metadata": {},
   "source": [
    "For more on connecting passing DataFrames between R and python see:\n",
    "    \n",
    "https://pandas.pydata.org/pandas-docs/version/0.23.0/r_interface.html"
   ]
  }
 ],
 "metadata": {
  "kernelspec": {
   "display_name": "base",
   "language": "python",
   "name": "python3"
  },
  "language_info": {
   "codemirror_mode": {
    "name": "ipython",
    "version": 3
   },
   "file_extension": ".py",
   "mimetype": "text/x-python",
   "name": "python",
   "nbconvert_exporter": "python",
   "pygments_lexer": "ipython3",
   "version": "3.11.4"
  }
 },
 "nbformat": 4,
 "nbformat_minor": 5
}
